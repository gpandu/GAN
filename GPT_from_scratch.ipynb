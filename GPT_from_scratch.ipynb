{
  "nbformat": 4,
  "nbformat_minor": 0,
  "metadata": {
    "colab": {
      "provenance": [],
      "authorship_tag": "ABX9TyN2c8atINR6BUU/+XJ0dDHK",
      "include_colab_link": true
    },
    "kernelspec": {
      "name": "python3",
      "display_name": "Python 3"
    },
    "language_info": {
      "name": "python"
    }
  },
  "cells": [
    {
      "cell_type": "markdown",
      "metadata": {
        "id": "view-in-github",
        "colab_type": "text"
      },
      "source": [
        "<a href=\"https://colab.research.google.com/github/gpandu/GAN/blob/main/GPT_from_scratch.ipynb\" target=\"_parent\"><img src=\"https://colab.research.google.com/assets/colab-badge.svg\" alt=\"Open In Colab\"/></a>"
      ]
    },
    {
      "cell_type": "markdown",
      "source": [
        "Tokenization:\n",
        "\n",
        "\n",
        "\n",
        "*   Subword Tokenization : Keep frequent words and break rearer words into subwords\n",
        "*   A statastical Alogrothm learns how to do this based on corpus.\n",
        "\n",
        "> Ex: Listeria ---> \"list\" , \"eria\"\n",
        "\n",
        "> \"list\" is common word likely to be found in dictionary\n",
        "\n",
        "\n",
        "*   Tokenization has better chance of handling OOV words while decreasing the size of the overall dictionary.   \n",
        "\n",
        "\n",
        "\n",
        "\n",
        "\n",
        "\n",
        "\n"
      ],
      "metadata": {
        "id": "rHXniZJHcUYI"
      }
    },
    {
      "cell_type": "code",
      "source": [],
      "metadata": {
        "id": "xS4gDfBKzOSY"
      },
      "execution_count": null,
      "outputs": []
    }
  ]
}